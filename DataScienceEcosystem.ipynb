{
 "cells": [
  {
   "cell_type": "markdown",
   "id": "408028f2-be9d-4226-8c6a-a1519d26df66",
   "metadata": {},
   "source": [
    "# Herramientas y ecosistema de ciencia de datos"
   ]
  },
  {
   "cell_type": "markdown",
   "id": "e7fda592-900c-4589-a743-29a138922c61",
   "metadata": {},
   "source": [
    "En este cuaderno, se resumen las herramientas y el ecosistema de ciencia de datos."
   ]
  },
  {
   "cell_type": "markdown",
   "id": "8e560f4a-36c9-41c5-8399-160d8c05e68c",
   "metadata": {},
   "source": [
    "__Objetivos:__\n",
    "\n",
    "* Enumeración de lenguajes\n",
    "* Enumeración de bibliotecas\n",
    "* Enumeración de herramientas en una tabla\n",
    "* Ejemplos de expresiones aritméticas\n",
    "* Expresiones para convertir minutos en horas"
   ]
  },
  {
   "cell_type": "markdown",
   "id": "2bf1b3c5-0c57-4303-bedc-8bd27221eb9f",
   "metadata": {},
   "source": [
    "Algunos de los lenguajes populares que utilizan los científicos de datos son:\n",
    "\n",
    "1. Python\n",
    "2. SQL\n",
    "3. R\n",
    "4. Java\n",
    "5. C++"
   ]
  },
  {
   "cell_type": "markdown",
   "id": "122e9e55-dad0-412b-bcfc-b9c93f2b4bdd",
   "metadata": {},
   "source": [
    "Algunas de las bibliotecas más utilizadas por los científicos de datos incluyen:\n",
    "1. Bibiliotecas de visualización\n",
    "   \n",
    "    1. Altair\n",
    "    2. Ploty\n",
    "    3. Ipywidgets\n",
    "       \n",
    "2. Bibliotecas de Aprendizaje automático\n",
    "    1. scikit-learn\n",
    "    2. matplotlib\n",
    "       \n",
    "3. Bibliotecas para el preprocesamiento de datos\n",
    "    1. IBM Watson Studio\n",
    "\n",
    "Hay muchas otras más bibliotecas con diferentes herramientas para un análisis de datos completo."
   ]
  },
  {
   "cell_type": "markdown",
   "id": "f03aafd4-36a1-4c6f-b5fd-3abf5c0ec3b3",
   "metadata": {},
   "source": [
    "|Herramientas de ciencia de datos|\n",
    "|--------------------------------|\n",
    "|MySQL                           |\n",
    "|PostgreSQL                      |\n",
    "|MongoDB                         |\n"
   ]
  },
  {
   "cell_type": "markdown",
   "id": "ff46e17f-65cf-481e-aedf-71e4cfc2d061",
   "metadata": {},
   "source": [
    "### A continuación se muestran algunos ejemplos de evaluación de expresiones aritméticas en Python.\n"
   ]
  },
  {
   "cell_type": "code",
   "execution_count": 15,
   "id": "e9691b92-ecd5-4879-a8c9-cb4f5bce56a9",
   "metadata": {},
   "outputs": [
    {
     "data": {
      "text/plain": [
       "17"
      ]
     },
     "execution_count": 15,
     "metadata": {},
     "output_type": "execute_result"
    }
   ],
   "source": [
    "#Esta es una expresión aritmética simple\n",
    "(3*4)+5\n"
   ]
  },
  {
   "cell_type": "code",
   "execution_count": 29,
   "id": "b99d7aee-fd11-4552-a382-ca9a6517f0cd",
   "metadata": {},
   "outputs": [
    {
     "name": "stdout",
     "output_type": "stream",
     "text": [
      "Hora: 3 ; Minutos: 20\n"
     ]
    }
   ],
   "source": [
    "#Esta operación convertirá 200 minutos en horas.\n",
    "\n",
    "hora=200//60 #El operador // nos dá la parte entera de la división.\n",
    "minuto=200%60 #El operador % nos dá el resto de la división (los minutos)\n",
    "\n",
    "print('Hora:', hora, ';',\n",
    "      'Minutos:', minuto)"
   ]
  },
  {
   "cell_type": "markdown",
   "id": "fe8923ca-01d8-47b0-8a2b-fe71df153e39",
   "metadata": {},
   "source": [
    "## Autor:\n",
    "\n",
    "Nathanny Silva Fernandes"
   ]
  },
  {
   "cell_type": "code",
   "execution_count": null,
   "id": "eecf66b3-ee16-47c3-aeca-b28d837db5b6",
   "metadata": {},
   "outputs": [],
   "source": []
  }
 ],
 "metadata": {
  "kernelspec": {
   "display_name": "Python 3 (ipykernel)",
   "language": "python",
   "name": "python3"
  },
  "language_info": {
   "codemirror_mode": {
    "name": "ipython",
    "version": 3
   },
   "file_extension": ".py",
   "mimetype": "text/x-python",
   "name": "python",
   "nbconvert_exporter": "python",
   "pygments_lexer": "ipython3",
   "version": "3.12.7"
  }
 },
 "nbformat": 4,
 "nbformat_minor": 5
}
